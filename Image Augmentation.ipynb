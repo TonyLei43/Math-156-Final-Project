{
 "cells": [
  {
   "cell_type": "code",
   "execution_count": 1,
   "id": "c6f89a81",
   "metadata": {},
   "outputs": [],
   "source": [
    "import numpy as np"
   ]
  },
  {
   "cell_type": "code",
   "execution_count": 2,
   "id": "d466f1d9",
   "metadata": {},
   "outputs": [],
   "source": [
    "from PIL import Image\n",
    "import os, os.path\n",
    "\n",
    "imgs = []\n",
    "path = \"/Users/willi/Documents/Math 156/roycehall\" #Path to where images are stored on device\n",
    "valid_images = [\".jpg\"] \n",
    "for f in os.listdir(path): #Imports all jpg images into a list\n",
    "    ext = os.path.splitext(f)[1]\n",
    "    if ext.lower() not in valid_images:\n",
    "        continue\n",
    "    imgs.append(Image.open(os.path.join(path,f)))"
   ]
  },
  {
   "cell_type": "code",
   "execution_count": 3,
   "id": "dfc43066",
   "metadata": {},
   "outputs": [],
   "source": [
    "newsize = (256, 256) #Resizes all images to 256x256\n",
    "resized_imgs = []\n",
    "for i in imgs:\n",
    "    im = i.resize(newsize)\n",
    "    resized_imgs.append(im)"
   ]
  },
  {
   "cell_type": "code",
   "execution_count": 4,
   "id": "f708b442",
   "metadata": {},
   "outputs": [
    {
     "name": "stderr",
     "output_type": "stream",
     "text": [
      "C:\\Users\\willi\\anaconda3\\lib\\site-packages\\scipy\\__init__.py:146: UserWarning: A NumPy version >=1.16.5 and <1.23.0 is required for this version of SciPy (detected version 1.26.2\n",
      "  warnings.warn(f\"A NumPy version >={np_minversion} and <{np_maxversion}\"\n"
     ]
    }
   ],
   "source": [
    "import sklearn as sk\n",
    "import sklearn.model_selection\n",
    "from sklearn.model_selection import train_test_split\n",
    "import shutil\n",
    "\n",
    "train, test = sk.model_selection.train_test_split(resized_imgs, test_size=.2) #Splits images into a train and test set\n",
    "train_path = path + '_trainset' #Sets path to store training images\n",
    "\n",
    "if os.path.isfile(train_path) == True:\n",
    "    shutil.rmtree(train_path) #Clears all previous training images if they exist\n",
    "os.mkdir(train_path) #Creates a new folder at designated location and stores all training images there\n",
    "k = 0\n",
    "for i in train:\n",
    "    i.save(train_path + '/image_' + str(k) + '.jpg')\n",
    "    k = k+1"
   ]
  },
  {
   "cell_type": "code",
   "execution_count": 5,
   "id": "ca11a43d",
   "metadata": {},
   "outputs": [
    {
     "name": "stdout",
     "output_type": "stream",
     "text": [
      "Initialised with 72 image(s) found.\n",
      "Output directory set to /Users/willi/Documents/Math 156/roycehall_trainset\\output."
     ]
    },
    {
     "name": "stderr",
     "output_type": "stream",
     "text": [
      "Processing <PIL.Image.Image image mode=RGB size=256x256 at 0x235AFC8A910>: 100%|██████████| 50/50 [00:00<00:00, 353.05 Samples/s]\n"
     ]
    }
   ],
   "source": [
    "import Augmentor\n",
    "output_path = train_path + '\\output' #Sets path for output of augmented images\n",
    "if os.path.isfile(output_path) == True:\n",
    "    shutil.rmtree(output_path) #Clears all previous augmented training images if they exist\n",
    "p = Augmentor.Pipeline(train_path) #Creates a pipeline for augmentation using the training images\n",
    "p.crop_random(probability = 1, percentage_area = 0.9)\n",
    "p.resize(probability = 1, width = 256, height = 256)\n",
    "p.random_distortion(probability = 0.3, grid_width = 4, grid_height = 4, magnitude = 8)\n",
    "p.skew(probability = 0.4)\n",
    "p.rotate_random_90(probability = 0.8)\n",
    "p.rotate(probability = 0.6, max_left_rotation = 25, max_right_rotation = 25)\n",
    "p.flip_left_right(probability = 0.8)\n",
    "p.sample(50) #Generates a specified number of augmented training images at an output directory"
   ]
  },
  {
   "cell_type": "code",
   "execution_count": null,
   "id": "5dadae47",
   "metadata": {},
   "outputs": [],
   "source": []
  }
 ],
 "metadata": {
  "kernelspec": {
   "display_name": "Python 3 (ipykernel)",
   "language": "python",
   "name": "python3"
  },
  "language_info": {
   "codemirror_mode": {
    "name": "ipython",
    "version": 3
   },
   "file_extension": ".py",
   "mimetype": "text/x-python",
   "name": "python",
   "nbconvert_exporter": "python",
   "pygments_lexer": "ipython3",
   "version": "3.9.7"
  }
 },
 "nbformat": 4,
 "nbformat_minor": 5
}
