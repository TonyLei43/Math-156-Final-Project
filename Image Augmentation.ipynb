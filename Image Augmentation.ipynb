{
 "cells": [
  {
   "cell_type": "code",
   "execution_count": null,
   "id": "c6f89a81",
   "metadata": {},
   "outputs": [],
   "source": [
    "import numpy as np"
   ]
  },
  {
   "cell_type": "code",
   "execution_count": null,
   "metadata": {},
   "outputs": [],
   "source": [
    "from PIL import Image\n",
    "import os\n",
    "import shutil\n",
    "import Augmentor\n",
    "from sklearn.model_selection import train_test_split\n",
    "\n",
    "# Load images from the specified directory\n",
    "imgs = []\n",
    "base_path = \"royce-hall\"  # Original path where images are stored\n",
    "valid_images = [\".jpg\"]\n",
    "for f in os.listdir(base_path):  # Imports all jpg images into a list\n",
    "    ext = os.path.splitext(f)[1]\n",
    "    if ext.lower() not in valid_images:\n",
    "        continue\n",
    "    imgs.append(Image.open(os.path.join(base_path, f)))\n",
    "\n",
    "# Resize all images to 224 x 224 for RESNET\n",
    "newsize = (224, 224)\n",
    "resized_imgs = [i.resize(newsize) for i in imgs]\n",
    "\n",
    "# Split images into train, validation, and test sets\n",
    "train_val, test = train_test_split(resized_imgs, test_size=0.2)\n",
    "train, val = train_test_split(train_val, test_size=0.25)  # 0.25 x 0.8 = 0.2\n",
    "\n",
    "# Function to save images to a directory\n",
    "def save_images(image_set, directory):\n",
    "    if os.path.isdir(directory):\n",
    "        shutil.rmtree(directory)\n",
    "    os.makedirs(directory, exist_ok=True)\n",
    "    for k, img in enumerate(image_set):\n",
    "        img.save(os.path.join(directory, f'image_{k}.jpg'))\n",
    "\n",
    "# Define base directory for dataset\n",
    "dataset_path = \"dataset\"\n",
    "\n",
    "# Define paths for train and validation sets\n",
    "train_path = os.path.join(dataset_path, 'train_set', 'royce-hall')\n",
    "val_path = os.path.join(dataset_path, 'valid_set', 'royce-hall')\n",
    "\n",
    "# Save train and validation images\n",
    "save_images(train, train_path)\n",
    "save_images(val, val_path)\n",
    "\n",
    "# Augment images in the training set\n",
    "output_path = os.path.join(train_path, 'output')\n",
    "p = Augmentor.Pipeline(train_path, output_directory=output_path)\n",
    "p.crop_random(probability=1, percentage_area=0.9)\n",
    "p.resize(probability=1, width=224, height=224)\n",
    "p.random_distortion(probability=0.3, grid_width=4, grid_height=4, magnitude=8)\n",
    "p.skew(probability=0.4)\n",
    "p.rotate_random_90(probability=0.8)\n",
    "p.rotate(probability=0.6, max_left_rotation=25, max_right_rotation=25)\n",
    "p.flip_left_right(probability=0.8)\n",
    "p.sample(100)  # Generates 100 augmented images\n"
   ]
  }
 ],
 "metadata": {
  "kernelspec": {
   "display_name": "Python 3 (ipykernel)",
   "language": "python",
   "name": "python3"
  },
  "language_info": {
   "codemirror_mode": {
    "name": "ipython",
    "version": 3
   },
   "file_extension": ".py",
   "mimetype": "text/x-python",
   "name": "python",
   "nbconvert_exporter": "python",
   "pygments_lexer": "ipython3",
   "version": "3.11.6"
  }
 },
 "nbformat": 4,
 "nbformat_minor": 5
}
