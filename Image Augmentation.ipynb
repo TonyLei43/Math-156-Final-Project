{
 "cells": [
  {
   "cell_type": "code",
   "execution_count": 6,
   "id": "c6f89a81",
   "metadata": {},
   "outputs": [],
   "source": [
    "import numpy as np"
   ]
  },
  {
   "cell_type": "code",
   "execution_count": 7,
   "id": "d466f1d9",
   "metadata": {},
   "outputs": [],
   "source": [
    "from PIL import Image\n",
    "import os, os.path\n",
    "\n",
    "imgs = []\n",
    "path = \"royce-hall\" #Path to where images are stored on device\n",
    "valid_images = [\".jpg\"] \n",
    "for f in os.listdir(path): #Imports all jpg images into a list\n",
    "    ext = os.path.splitext(f)[1]\n",
    "    if ext.lower() not in valid_images:\n",
    "        continue\n",
    "    imgs.append(Image.open(os.path.join(path,f)))"
   ]
  },
  {
   "cell_type": "code",
   "execution_count": 8,
   "id": "dfc43066",
   "metadata": {},
   "outputs": [],
   "source": [
    "newsize = (224, 224) #Resizes all images to 224 x 224 for RESNET\n",
    "resized_imgs = []\n",
    "for i in imgs:\n",
    "    im = i.resize(newsize)\n",
    "    resized_imgs.append(im)"
   ]
  },
  {
   "cell_type": "code",
   "execution_count": 9,
   "id": "f708b442",
   "metadata": {},
   "outputs": [],
   "source": [
    "import sklearn as sk\n",
    "import sklearn.model_selection\n",
    "from sklearn.model_selection import train_test_split\n",
    "import shutil\n",
    "\n",
    "train, test = sk.model_selection.train_test_split(resized_imgs, test_size=.2) #Splits images into a train and test set\n",
    "train_path = path + '_trainset' #Sets path to store training images\n",
    "\n",
    "if os.path.isfile(train_path) == True:\n",
    "    shutil.rmtree(train_path) #Clears all previous training images if they exist\n",
    "os.mkdir(train_path) #Creates a new folder at designated location and stores all training images there\n",
    "k = 0\n",
    "for i in train:\n",
    "    i.save(train_path + '/image_' + str(k) + '.jpg')\n",
    "    k = k+1"
   ]
  },
  {
   "cell_type": "code",
   "execution_count": 10,
   "id": "ca11a43d",
   "metadata": {},
   "outputs": [
    {
     "name": "stdout",
     "output_type": "stream",
     "text": [
      "Initialised with 72 image(s) found.\n",
      "Output directory set to royce-hall_trainset/output."
     ]
    },
    {
     "name": "stderr",
     "output_type": "stream",
     "text": [
      "Processing <PIL.Image.Image image mode=RGB size=256x256 at 0x39B655910>: 100%|██████████| 50/50 [00:00<00:00, 402.85 Samples/s]\n"
     ]
    }
   ],
   "source": [
    "import Augmentor\n",
    "output_path = train_path + '\\output' #Sets path for output of augmented images\n",
    "if os.path.isfile(output_path) == True:\n",
    "    shutil.rmtree(output_path) #Clears all previous augmented training images if they exist\n",
    "p = Augmentor.Pipeline(train_path) #Creates a pipeline for augmentation using the training images\n",
    "p.crop_random(probability = 1, percentage_area = 0.9)\n",
    "p.resize(probability = 1, width = 224, height = 224)\n",
    "p.random_distortion(probability = 0.3, grid_width = 4, grid_height = 4, magnitude = 8)\n",
    "p.skew(probability = 0.4)\n",
    "p.rotate_random_90(probability = 0.8)\n",
    "p.rotate(probability = 0.6, max_left_rotation = 25, max_right_rotation = 25)\n",
    "p.flip_left_right(probability = 0.8)\n",
    "p.sample(50) #Generates a specified number of augmented training images at an output directory"
   ]
  },
  {
   "cell_type": "code",
   "execution_count": null,
   "id": "5dadae47",
   "metadata": {},
   "outputs": [],
   "source": []
  },
  {
   "cell_type": "code",
   "execution_count": 1,
   "metadata": {},
   "outputs": [
    {
     "name": "stdout",
     "output_type": "stream",
     "text": [
      "Initialised with 54 image(s) found.\n",
      "Output directory set to royce-hall/trainset/royce-hall/trainset/output."
     ]
    },
    {
     "name": "stderr",
     "output_type": "stream",
     "text": [
      "Processing <PIL.Image.Image image mode=RGB size=224x224 at 0x147125190>: 100%|██████████| 100/100 [00:00<00:00, 833.81 Samples/s]\n"
     ]
    }
   ],
   "source": [
    "from PIL import Image\n",
    "import os\n",
    "import shutil\n",
    "import Augmentor\n",
    "from sklearn.model_selection import train_test_split\n",
    "\n",
    "# Load images from the specified directory\n",
    "imgs = []\n",
    "path = \"royce-hall\"  # Path to where images are stored on device\n",
    "valid_images = [\".jpg\"]\n",
    "for f in os.listdir(path):  # Imports all jpg images into a list\n",
    "    ext = os.path.splitext(f)[1]\n",
    "    if ext.lower() not in valid_images:\n",
    "        continue\n",
    "    imgs.append(Image.open(os.path.join(path, f)))\n",
    "\n",
    "# Resize all images to 224 x 224 for RESNET\n",
    "newsize = (224, 224)\n",
    "resized_imgs = [i.resize(newsize) for i in imgs]\n",
    "\n",
    "# Split images into train, validation, and test sets\n",
    "train_val, test = train_test_split(resized_imgs, test_size=0.2)\n",
    "train, val = train_test_split(train_val, test_size=0.25)  # 0.25 x 0.8 = 0.2\n",
    "\n",
    "# Function to save images to a directory\n",
    "def save_images(image_set, directory):\n",
    "    if os.path.isdir(directory):\n",
    "        shutil.rmtree(directory)\n",
    "    os.mkdir(directory)\n",
    "    for k, img in enumerate(image_set):\n",
    "        img.save(os.path.join(directory, f'image_{k}.jpg'))\n",
    "\n",
    "# Define paths for train and validation sets\n",
    "train_path = os.path.join(path, 'trainset')\n",
    "val_path = os.path.join(path, 'valset')\n",
    "\n",
    "# Save train and validation images\n",
    "save_images(train, train_path)\n",
    "save_images(val, val_path)\n",
    "\n",
    "# Augment images in the training set\n",
    "output_path = os.path.join(train_path, 'output')\n",
    "p = Augmentor.Pipeline(train_path, output_directory=output_path)\n",
    "p.crop_random(probability=1, percentage_area=0.9)\n",
    "p.resize(probability=1, width=224, height=224)\n",
    "p.random_distortion(probability=0.3, grid_width=4, grid_height=4, magnitude=8)\n",
    "p.skew(probability=0.4)\n",
    "p.rotate_random_90(probability=0.8)\n",
    "p.rotate(probability=0.6, max_left_rotation=25, max_right_rotation=25)\n",
    "p.flip_left_right(probability=0.8)\n",
    "p.sample(100)  # Generates 100 augmented images\n"
   ]
  },
  {
   "cell_type": "code",
   "execution_count": 3,
   "metadata": {},
   "outputs": [
    {
     "name": "stdout",
     "output_type": "stream",
     "text": [
      "Initialised with 54 image(s) found.\n",
      "Output directory set to dataset/train_set/royce-hall/dataset/train_set/royce-hall/output."
     ]
    },
    {
     "name": "stderr",
     "output_type": "stream",
     "text": [
      "Processing <PIL.Image.Image image mode=RGB size=224x224 at 0x147113B50>: 100%|██████████| 100/100 [00:00<00:00, 826.98 Samples/s]\n"
     ]
    }
   ],
   "source": [
    "from PIL import Image\n",
    "import os\n",
    "import shutil\n",
    "import Augmentor\n",
    "from sklearn.model_selection import train_test_split\n",
    "\n",
    "# Load images from the specified directory\n",
    "imgs = []\n",
    "base_path = \"royce-hall\"  # Original path where images are stored\n",
    "valid_images = [\".jpg\"]\n",
    "for f in os.listdir(base_path):  # Imports all jpg images into a list\n",
    "    ext = os.path.splitext(f)[1]\n",
    "    if ext.lower() not in valid_images:\n",
    "        continue\n",
    "    imgs.append(Image.open(os.path.join(base_path, f)))\n",
    "\n",
    "# Resize all images to 224 x 224 for RESNET\n",
    "newsize = (224, 224)\n",
    "resized_imgs = [i.resize(newsize) for i in imgs]\n",
    "\n",
    "# Split images into train, validation, and test sets\n",
    "train_val, test = train_test_split(resized_imgs, test_size=0.2)\n",
    "train, val = train_test_split(train_val, test_size=0.25)  # 0.25 x 0.8 = 0.2\n",
    "\n",
    "# Function to save images to a directory\n",
    "def save_images(image_set, directory):\n",
    "    if os.path.isdir(directory):\n",
    "        shutil.rmtree(directory)\n",
    "    os.makedirs(directory, exist_ok=True)\n",
    "    for k, img in enumerate(image_set):\n",
    "        img.save(os.path.join(directory, f'image_{k}.jpg'))\n",
    "\n",
    "# Define base directory for dataset\n",
    "dataset_path = \"dataset\"\n",
    "\n",
    "# Define paths for train and validation sets\n",
    "train_path = os.path.join(dataset_path, 'train_set', 'royce-hall')\n",
    "val_path = os.path.join(dataset_path, 'valid_set', 'royce-hall')\n",
    "\n",
    "# Save train and validation images\n",
    "save_images(train, train_path)\n",
    "save_images(val, val_path)\n",
    "\n",
    "# Augment images in the training set\n",
    "output_path = os.path.join(train_path, 'output')\n",
    "p = Augmentor.Pipeline(train_path, output_directory=output_path)\n",
    "p.crop_random(probability=1, percentage_area=0.9)\n",
    "p.resize(probability=1, width=224, height=224)\n",
    "p.random_distortion(probability=0.3, grid_width=4, grid_height=4, magnitude=8)\n",
    "p.skew(probability=0.4)\n",
    "p.rotate_random_90(probability=0.8)\n",
    "p.rotate(probability=0.6, max_left_rotation=25, max_right_rotation=25)\n",
    "p.flip_left_right(probability=0.8)\n",
    "p.sample(100)  # Generates 100 augmented images\n"
   ]
  },
  {
   "cell_type": "code",
   "execution_count": 4,
   "metadata": {},
   "outputs": [
    {
     "name": "stdout",
     "output_type": "stream",
     "text": [
      "Initialised with 90 image(s) found.\n",
      "Output directory set to royce-hall/dataset/train_set/royce-hall."
     ]
    },
    {
     "name": "stderr",
     "output_type": "stream",
     "text": [
      "Processing <PIL.Image.Image image mode=RGB size=224x224 at 0x146AF4450>: 100%|██████████| 100/100 [00:01<00:00, 59.84 Samples/s]\n"
     ]
    }
   ],
   "source": [
    "from PIL import Image\n",
    "import os\n",
    "import shutil\n",
    "import Augmentor\n",
    "from sklearn.model_selection import train_test_split\n",
    "\n",
    "# Load images from the specified directory\n",
    "imgs = []\n",
    "base_path = \"royce-hall\"  # Original path where images are stored\n",
    "valid_images = [\".jpg\"]\n",
    "for f in os.listdir(base_path):  # Imports all jpg images into a list\n",
    "    ext = os.path.splitext(f)[1]\n",
    "    if ext.lower() not in valid_images:\n",
    "        continue\n",
    "    imgs.append(Image.open(os.path.join(base_path, f)))\n",
    "\n",
    "# Resize all images to 224 x 224 for RESNET\n",
    "newsize = (224, 224)\n",
    "resized_imgs = [i.resize(newsize) for i in imgs]\n",
    "\n",
    "# Split images into train, validation, and test sets\n",
    "train_val, test = train_test_split(resized_imgs, test_size=0.2)\n",
    "train, val = train_test_split(train_val, test_size=0.25)  # 0.25 x 0.8 = 0.2\n",
    "\n",
    "# Function to save images to a directory\n",
    "def save_images(image_set, directory):\n",
    "    if os.path.isdir(directory):\n",
    "        shutil.rmtree(directory)\n",
    "    os.makedirs(directory, exist_ok=True)\n",
    "    for k, img in enumerate(image_set):\n",
    "        img.save(os.path.join(directory, f'image_{k}.jpg'))\n",
    "\n",
    "# Define base directory for dataset\n",
    "dataset_path = \"dataset\"\n",
    "\n",
    "# Define paths for train, validation, and test sets\n",
    "train_path = os.path.join(dataset_path, 'train_set', 'royce-hall')\n",
    "val_path = os.path.join(dataset_path, 'valid_set', 'royce-hall')\n",
    "test_path = os.path.join(dataset_path, 'test_set', 'royce-hall')\n",
    "\n",
    "# Save validation and test images\n",
    "save_images(val, val_path)\n",
    "save_images(test, test_path)\n",
    "\n",
    "# Augment images in the training set\n",
    "p = Augmentor.Pipeline(source_directory=base_path, output_directory=train_path, save_format=\"JPEG\")\n",
    "p.crop_random(probability=1, percentage_area=0.9)\n",
    "p.resize(probability=1, width=224, height=224)\n",
    "p.random_distortion(probability=0.3, grid_width=4, grid_height=4, magnitude=8)\n",
    "p.skew(probability=0.4)\n",
    "p.rotate_random_90(probability=0.8)\n",
    "p.rotate(probability=0.6, max_left_rotation=25, max_right_rotation=25)\n",
    "p.flip_left_right(probability=0.8)\n",
    "p.sample(100)  # Generates 100 augmented images\n"
   ]
  },
  {
   "cell_type": "code",
   "execution_count": 12,
   "metadata": {},
   "outputs": [
    {
     "name": "stdout",
     "output_type": "stream",
     "text": [
      "Initialised with 54 image(s) found.\n",
      "Output directory set to dataset/train_set/royce-hall/augmented."
     ]
    },
    {
     "name": "stderr",
     "output_type": "stream",
     "text": [
      "Processing <PIL.Image.Image image mode=RGB size=224x224 at 0x157BD6FD0>: 100%|██████████| 100/100 [00:00<00:00, 996.43 Samples/s]\n"
     ]
    }
   ],
   "source": [
    "from PIL import Image\n",
    "import os\n",
    "import shutil\n",
    "import Augmentor\n",
    "from sklearn.model_selection import train_test_split\n",
    "\n",
    "# Load images from the specified directory\n",
    "imgs = []\n",
    "original_base_path = \"royce-hall\"  # Original path where images are stored\n",
    "valid_images = [\".jpg\"]\n",
    "for f in os.listdir(original_base_path):  # Imports all jpg images into a list\n",
    "    ext = os.path.splitext(f)[1]\n",
    "    if ext.lower() not in valid_images:\n",
    "        continue\n",
    "    imgs.append(Image.open(os.path.join(original_base_path, f)))\n",
    "\n",
    "# Resize all images to 224 x 224 for RESNET\n",
    "newsize = (224, 224)\n",
    "resized_imgs = [i.resize(newsize) for i in imgs]\n",
    "\n",
    "# Split images into train, validation, and test sets\n",
    "train_val, test = train_test_split(resized_imgs, test_size=0.2)\n",
    "train, val = train_test_split(train_val, test_size=0.25)  # 0.25 x 0.8 = 0.2\n",
    "\n",
    "# Function to save images to a directory\n",
    "def save_images(image_set, directory):\n",
    "    if os.path.isdir(directory):\n",
    "        shutil.rmtree(directory)\n",
    "    os.makedirs(directory, exist_ok=True)\n",
    "    for k, img in enumerate(image_set):\n",
    "        img.save(os.path.join(directory, f'image_{k}.jpg'))\n",
    "\n",
    "# Define base directory for dataset\n",
    "dataset_path = \"dataset\"\n",
    "\n",
    "# Define paths for train, validation, and test sets\n",
    "train_path = os.path.join(dataset_path, 'train_set', 'royce-hall')\n",
    "val_path = os.path.join(dataset_path, 'valid_set', 'royce-hall')\n",
    "test_path = os.path.join(dataset_path, 'test_set', 'royce-hall')\n",
    "\n",
    "# Save train, validation, and test images\n",
    "save_images(train, train_path)\n",
    "save_images(val, val_path)\n",
    "save_images(test, test_path)\n",
    "\n",
    "# # Augment images in the training set\n",
    "p = Augmentor.Pipeline(source_directory=train_path, output_directory=\"augmented\", save_format=\"JPEG\")\n",
    "p.crop_random(probability=1, percentage_area=0.9)\n",
    "p.resize(probability=1, width=224, height=224)\n",
    "p.random_distortion(probability=0.3, grid_width=4, grid_height=4, magnitude=8)\n",
    "p.skew(probability=0.4)\n",
    "p.rotate_random_90(probability=0.8)\n",
    "p.rotate(probability=0.6, max_left_rotation=25, max_right_rotation=25)\n",
    "p.flip_left_right(probability=0.8)\n",
    "p.sample(100)  # Generates 100 augmented images\n"
   ]
  },
  {
   "cell_type": "code",
   "execution_count": null,
   "metadata": {},
   "outputs": [],
   "source": []
  }
 ],
 "metadata": {
  "kernelspec": {
   "display_name": "Python 3 (ipykernel)",
   "language": "python",
   "name": "python3"
  },
  "language_info": {
   "codemirror_mode": {
    "name": "ipython",
    "version": 3
   },
   "file_extension": ".py",
   "mimetype": "text/x-python",
   "name": "python",
   "nbconvert_exporter": "python",
   "pygments_lexer": "ipython3",
   "version": "3.11.6"
  }
 },
 "nbformat": 4,
 "nbformat_minor": 5
}
