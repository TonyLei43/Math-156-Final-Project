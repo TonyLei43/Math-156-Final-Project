{
 "cells": [
  {
   "cell_type": "code",
   "execution_count": 1,
   "metadata": {},
   "outputs": [],
   "source": [
    "#Populates the non-royce-hallfolders with random images from the downloaded dataset from https://salford.figshare.com/articles/dataset/UoS_Buildings_Image_Dataset_for_Computer_Vision_Algorithms/20383155\n",
    "\n",
    "from PIL import Image\n",
    "import os\n",
    "import shutil\n",
    "from sklearn.model_selection import train_test_split\n",
    "\n",
    "def list_images(directory, valid_extensions):\n",
    "    return [os.path.join(directory, f) for f in os.listdir(directory) if os.path.splitext(f)[1].lower() in valid_extensions]\n",
    "\n",
    "def resize_image(image_path, size=(224, 224)):\n",
    "    with Image.open(image_path) as img:\n",
    "        return img.resize(size)\n",
    "\n",
    "# Function to save images\n",
    "def save_images(image_paths, directory, size=(224, 224)):\n",
    "    if os.path.isdir(directory):\n",
    "        shutil.rmtree(directory)\n",
    "    os.makedirs(directory, exist_ok=True)\n",
    "    for img_path in image_paths:\n",
    "        img = resize_image(img_path, size)\n",
    "        img.save(os.path.join(directory, os.path.basename(img_path)))\n",
    "\n",
    "# Adjust this path to point to your dataset2 folder\n",
    "other_path = \"salford\"  # Update this path\n",
    "image_ext = [\".jpg\", \".jpeg\", \".png\"]\n",
    "non_royce_hall_list = []\n",
    "for building_name in os.listdir(other_path):\n",
    "    building_path = os.path.join(other_path, building_name)\n",
    "    if os.path.isdir(building_path) and building_name != \"royce-hall\":\n",
    "        non_royce_hall_list.extend(list_images(building_path, image_ext))\n",
    "\n",
    "# sample the same number as the train/valid/test sets\n",
    "num_train = len(os.listdir(\"dataset/train_set/royce-hall\"))\n",
    "num_val = len(os.listdir(\"dataset/valid_set/royce-hall\"))\n",
    "num_test = len(os.listdir(\"dataset/test_set/royce-hall\"))\n",
    "\n",
    "train_not_royce, remaining = train_test_split(non_royce_hall_list, train_size=num_train)\n",
    "val_not_royce, test_non_royce = train_test_split(remaining, train_size=num_val, test_size=num_test)\n",
    "\n",
    "# paths for the non-royce-hall images\n",
    "train_not_royce_path = os.path.join(\"dataset\", \"train_set\", \"non-royce-hall\")\n",
    "val_not_royce_path = os.path.join(\"dataset\", \"valid_set\", \"non-royce-hall\")\n",
    "test_not_royce_path = os.path.join(\"dataset\", \"test_set\", \"non-royce-hall\")\n",
    "\n",
    "# Save the selected images to corresponding directories\n",
    "save_images(train_not_royce, train_not_royce_path)\n",
    "save_images(val_not_royce, val_not_royce_path)\n",
    "save_images(test_not_royce, test_not_royce_path)\n"
   ]
  },
  {
   "cell_type": "code",
   "execution_count": null,
   "metadata": {},
   "outputs": [],
   "source": []
  }
 ],
 "metadata": {
  "kernelspec": {
   "display_name": "PIC16B-3",
   "language": "python",
   "name": "python3"
  },
  "language_info": {
   "codemirror_mode": {
    "name": "ipython",
    "version": 3
   },
   "file_extension": ".py",
   "mimetype": "text/x-python",
   "name": "python",
   "nbconvert_exporter": "python",
   "pygments_lexer": "ipython3",
   "version": "3.11.6"
  }
 },
 "nbformat": 4,
 "nbformat_minor": 2
}
